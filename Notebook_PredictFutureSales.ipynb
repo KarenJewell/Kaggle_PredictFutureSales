{
 "cells": [
  {
   "cell_type": "markdown",
   "metadata": {},
   "source": [
    "# Set environment and load data"
   ]
  },
  {
   "cell_type": "code",
   "execution_count": 5,
   "metadata": {},
   "outputs": [],
   "source": [
    "import os\n",
    "import pprint\n",
    "import pandas as pd\n",
    "import numpy as np\n",
    "import matplotlib.pyplot as plt\n",
    "import seaborn as sns\n",
    "import sklearn\n",
    "from sklearn.model_selection import train_test_split\n",
    "from sklearn import metrics\n",
    "from sklearn.tree import DecisionTreeClassifier\n",
    "from sklearn.ensemble import RandomForestClassifier\n",
    "from sklearn.naive_bayes import GaussianNB\n",
    "from sklearn.metrics import confusion_matrix\n",
    "from sklearn.model_selection import cross_validate\n",
    "from sklearn.metrics import mean_squared_error\n",
    "\n",
    "### Allow multi-line results\n",
    "from IPython.core.interactiveshell import InteractiveShell\n",
    "InteractiveShell.ast_node_interactivity = \"all\"\n",
    "\n",
    "### See all dataframe output\n",
    "pd.set_option('display.max_rows', 500)\n",
    "pd.set_option('display.max_columns', 500)"
   ]
  },
  {
   "cell_type": "code",
   "execution_count": 6,
   "metadata": {},
   "outputs": [
    {
     "name": "stdout",
     "output_type": "stream",
     "text": [
      "sales_train.csv\n",
      "shops.csv\n",
      "test.csv\n",
      "item_categories.csv\n",
      "items.csv\n",
      "sample_submission.csv\n"
     ]
    }
   ],
   "source": [
    "# Dynamically load data from filenames\n",
    "folder = \"/Users/Karen/OneDrive/GitHub/Kaggle_PredictFutureSales/\"\n",
    "datafolder = \"competitive-data-science-predict-future-sales/\"\n",
    "for dirname, _, filenames in os.walk(datafolder):\n",
    "    for filename in filenames:\n",
    "        #file = os.path.join(dirname, filename)\n",
    "        globals()[filename.split('.')[0]] = pd.read_csv(datafolder + filename)\n",
    "        print(filename)\n",
    "        "
   ]
  },
  {
   "cell_type": "markdown",
   "metadata": {},
   "source": [
    "# Inspect loaded data"
   ]
  },
  {
   "cell_type": "code",
   "execution_count": 7,
   "metadata": {},
   "outputs": [
    {
     "name": "stdout",
     "output_type": "stream",
     "text": [
      "         date  date_block_num  shop_id  item_id  item_price  item_cnt_day\n",
      "0  02.01.2013               0       59    22154      999.00           1.0\n",
      "1  03.01.2013               0       25     2552      899.00           1.0\n",
      "2  05.01.2013               0       25     2552      899.00          -1.0\n",
      "3  06.01.2013               0       25     2554     1709.05           1.0\n",
      "4  15.01.2013               0       25     2555     1099.00           1.0\n"
     ]
    },
    {
     "data": {
      "text/plain": [
       "2935849"
      ]
     },
     "execution_count": 7,
     "metadata": {},
     "output_type": "execute_result"
    }
   ],
   "source": [
    "print(sales_train.head(5))\n",
    "len(sales_train)"
   ]
  },
  {
   "cell_type": "code",
   "execution_count": 8,
   "metadata": {},
   "outputs": [
    {
     "name": "stdout",
     "output_type": "stream",
     "text": [
      "   ID  shop_id  item_id\n",
      "0   0        5     5037\n",
      "1   1        5     5320\n",
      "2   2        5     5233\n",
      "3   3        5     5232\n",
      "4   4        5     5268\n"
     ]
    }
   ],
   "source": [
    "print(test.head(5))"
   ]
  },
  {
   "cell_type": "code",
   "execution_count": 9,
   "metadata": {},
   "outputs": [
    {
     "name": "stdout",
     "output_type": "stream",
     "text": [
      "                        shop_name  shop_id\n",
      "0   !Якутск Орджоникидзе, 56 фран        0\n",
      "1   !Якутск ТЦ \"Центральный\" фран        1\n",
      "2                Адыгея ТЦ \"Мега\"        2\n",
      "3  Балашиха ТРК \"Октябрь-Киномир\"        3\n",
      "4        Волжский ТЦ \"Волга Молл\"        4\n"
     ]
    }
   ],
   "source": [
    "print(shops.head(5))"
   ]
  },
  {
   "cell_type": "code",
   "execution_count": 10,
   "metadata": {},
   "outputs": [
    {
     "name": "stdout",
     "output_type": "stream",
     "text": [
      "                                           item_name  item_id  \\\n",
      "0          ! ВО ВЛАСТИ НАВАЖДЕНИЯ (ПЛАСТ.)         D        0   \n",
      "1  !ABBYY FineReader 12 Professional Edition Full...        1   \n",
      "2      ***В ЛУЧАХ СЛАВЫ   (UNV)                    D        2   \n",
      "3    ***ГОЛУБАЯ ВОЛНА  (Univ)                      D        3   \n",
      "4        ***КОРОБКА (СТЕКЛО)                       D        4   \n",
      "\n",
      "   item_category_id  \n",
      "0                40  \n",
      "1                76  \n",
      "2                40  \n",
      "3                40  \n",
      "4                40  \n"
     ]
    }
   ],
   "source": [
    "print(items.head(5))"
   ]
  },
  {
   "cell_type": "code",
   "execution_count": 11,
   "metadata": {},
   "outputs": [
    {
     "name": "stdout",
     "output_type": "stream",
     "text": [
      "        item_category_name  item_category_id\n",
      "0  PC - Гарнитуры/Наушники                 0\n",
      "1         Аксессуары - PS2                 1\n",
      "2         Аксессуары - PS3                 2\n",
      "3         Аксессуары - PS4                 3\n",
      "4         Аксессуары - PSP                 4\n"
     ]
    }
   ],
   "source": [
    "print(item_categories.head(5))"
   ]
  },
  {
   "cell_type": "code",
   "execution_count": 12,
   "metadata": {},
   "outputs": [
    {
     "data": {
      "text/plain": [
       "['date', 'date_block_num', 'shop_id', 'item_id', 'item_price', 'item_cnt_day']"
      ]
     },
     "execution_count": 12,
     "metadata": {},
     "output_type": "execute_result"
    },
    {
     "data": {
      "text/plain": [
       "['shop_id', 'item_id', 'item_cnt_day']"
      ]
     },
     "execution_count": 12,
     "metadata": {},
     "output_type": "execute_result"
    }
   ],
   "source": [
    "list(sales_train)\n",
    "sales_train_t = sales_train.drop(columns={\"date\",\"date_block_num\",\"item_price\"})\n",
    "list(sales_train_t)\n"
   ]
  },
  {
   "cell_type": "code",
   "execution_count": 19,
   "metadata": {},
   "outputs": [
    {
     "data": {
      "text/plain": [
       "10"
      ]
     },
     "execution_count": 19,
     "metadata": {},
     "output_type": "execute_result"
    },
    {
     "name": "stdout",
     "output_type": "stream",
     "text": [
      "{'ARDRegression': ARDRegression(),\n",
      " 'BaggingRegressor': BaggingRegressor(),\n",
      " 'DecisionTreeRegressor': DecisionTreeRegressor(),\n",
      " 'ExtraTreesRegressor': ExtraTreesRegressor(),\n",
      " 'GradientBoostingRegressor': GradientBoostingRegressor(),\n",
      " 'KNeighborsRegressor': KNeighborsRegressor(),\n",
      " 'LassoLars': LassoLars(),\n",
      " 'LinearRegression': LinearRegression(),\n",
      " 'PoissonRegressor': PoissonRegressor(),\n",
      " 'RandomForestRegressor': RandomForestRegressor()}\n"
     ]
    }
   ],
   "source": [
    "### Regressor models\n",
    "from sklearn.utils.testing import all_estimators\n",
    "from sklearn import base\n",
    "\n",
    "estimators = all_estimators()\n",
    "dict_classifiers = {}\n",
    "\n",
    "shortlist = ['ARDRegression','BaggingRegressor','DecisionTreeRegressor','ExtraTreesRegressor', \\\n",
    "             'GradientBoostingRegressor','KNeighborsRegressor','LassoLars','LinearRegression', \\\n",
    "             'Linear SVR', 'PoissonRegressor','RandomForestRegressor']\n",
    "\n",
    "for name, class_ in estimators:\n",
    "    ### use one: ClassifierMixin, ClusterMixin, RegressorMixin, TransformerMixin\n",
    "    if issubclass(class_, base.RegressorMixin):\n",
    "        if name in shortlist:\n",
    "            ### excluding any models which require additional parameters\n",
    "            try:\n",
    "                dict_classifiers[name] = class_()\n",
    "            except:\n",
    "                pass\n",
    "        \n",
    "len(dict_classifiers.items())\n",
    "pprint.pprint(dict_classifiers)"
   ]
  },
  {
   "cell_type": "code",
   "execution_count": 14,
   "metadata": {},
   "outputs": [],
   "source": [
    "### Split train-test data\n",
    "x = sales_train_t.copy().drop(columns={'item_cnt_day'})\n",
    "y = sales_train_t['item_cnt_day']\n",
    "x_train, x_test, y_train, y_test = train_test_split(x, y, test_size=0.33, random_state=42)\n",
    "xy_train = list(zip(x_train, y_train))\n",
    "xy_test = list(zip(x_test, y_test))"
   ]
  },
  {
   "cell_type": "code",
   "execution_count": 15,
   "metadata": {},
   "outputs": [
    {
     "data": {
      "text/plain": [
       "ARDRegression()"
      ]
     },
     "execution_count": 15,
     "metadata": {},
     "output_type": "execute_result"
    },
    {
     "name": "stdout",
     "output_type": "stream",
     "text": [
      "ARDRegression mse:  4.500625663109595\n"
     ]
    },
    {
     "data": {
      "text/plain": [
       "BaggingRegressor()"
      ]
     },
     "execution_count": 15,
     "metadata": {},
     "output_type": "execute_result"
    },
    {
     "name": "stdout",
     "output_type": "stream",
     "text": [
      "BaggingRegressor mse:  3.6782187682532053\n"
     ]
    },
    {
     "data": {
      "text/plain": [
       "DecisionTreeRegressor()"
      ]
     },
     "execution_count": 15,
     "metadata": {},
     "output_type": "execute_result"
    },
    {
     "name": "stdout",
     "output_type": "stream",
     "text": [
      "DecisionTreeRegressor mse:  3.6785668594004277\n"
     ]
    },
    {
     "data": {
      "text/plain": [
       "ExtraTreesRegressor()"
      ]
     },
     "execution_count": 15,
     "metadata": {},
     "output_type": "execute_result"
    },
    {
     "name": "stdout",
     "output_type": "stream",
     "text": [
      "ExtraTreesRegressor mse:  3.6763706032589307\n"
     ]
    },
    {
     "data": {
      "text/plain": [
       "GradientBoostingRegressor()"
      ]
     },
     "execution_count": 15,
     "metadata": {},
     "output_type": "execute_result"
    },
    {
     "name": "stdout",
     "output_type": "stream",
     "text": [
      "GradientBoostingRegressor mse:  4.106173601860556\n"
     ]
    },
    {
     "data": {
      "text/plain": [
       "KNeighborsRegressor()"
      ]
     },
     "execution_count": 15,
     "metadata": {},
     "output_type": "execute_result"
    },
    {
     "name": "stdout",
     "output_type": "stream",
     "text": [
      "KNeighborsRegressor mse:  4.619413994804047\n"
     ]
    },
    {
     "data": {
      "text/plain": [
       "LassoLars()"
      ]
     },
     "execution_count": 15,
     "metadata": {},
     "output_type": "execute_result"
    },
    {
     "name": "stdout",
     "output_type": "stream",
     "text": [
      "LassoLars mse:  4.500625663109595\n"
     ]
    },
    {
     "data": {
      "text/plain": [
       "LinearRegression()"
      ]
     },
     "execution_count": 15,
     "metadata": {},
     "output_type": "execute_result"
    },
    {
     "name": "stdout",
     "output_type": "stream",
     "text": [
      "LinearRegression mse:  4.498623428286816\n"
     ]
    },
    {
     "data": {
      "text/plain": [
       "RandomForestRegressor()"
      ]
     },
     "execution_count": 15,
     "metadata": {},
     "output_type": "execute_result"
    },
    {
     "name": "stdout",
     "output_type": "stream",
     "text": [
      "RandomForestRegressor mse:  3.6282742692168775\n"
     ]
    }
   ],
   "source": [
    "results = ([['base',0]])\n",
    "\n",
    "for model, model_inst in dict_classifiers.items():\n",
    "    try: \n",
    "        model_inst.fit(x_train, y_train)\n",
    "        pred = np.array(model_inst.predict(x_test))\n",
    "        score = metrics.mean_squared_error(y_test, pred)\n",
    "        print(model, \"mse: \",score)\n",
    "        #print(metrics.classification_report(y_test, pred, digits=3))\n",
    "        results.append([model,score])\n",
    "    except:\n",
    "        pass"
   ]
  },
  {
   "cell_type": "code",
   "execution_count": 16,
   "metadata": {},
   "outputs": [
    {
     "name": "stdout",
     "output_type": "stream",
     "text": [
      "                       model     score\n",
      "0                       base  0.000000\n",
      "9      RandomForestRegressor  3.628274\n",
      "4        ExtraTreesRegressor  3.676371\n",
      "2           BaggingRegressor  3.678219\n",
      "3      DecisionTreeRegressor  3.678567\n",
      "5  GradientBoostingRegressor  4.106174\n",
      "8           LinearRegression  4.498623\n",
      "1              ARDRegression  4.500626\n",
      "7                  LassoLars  4.500626\n",
      "6        KNeighborsRegressor  4.619414\n"
     ]
    }
   ],
   "source": [
    "print(pd.DataFrame(results, columns={'model','score'}).sort_values(by='score'))"
   ]
  },
  {
   "cell_type": "code",
   "execution_count": null,
   "metadata": {},
   "outputs": [],
   "source": [
    "test_t = test.drop(columns={\"ID\"})\n",
    "\n",
    "final_clf = sklearn.ensemble._forest.RandomForestRegressor()\n",
    "final_clf.fit(x, y)\n",
    "pred = np.array(final_clf.predict(test_t))\n",
    "finalresults = pd.DataFrame()\n",
    "finalresults['Survived'] = list(pred)\n",
    "finalresults = finalresults.join(test[['ID']])\n",
    "print(finalresults)"
   ]
  },
  {
   "cell_type": "code",
   "execution_count": null,
   "metadata": {},
   "outputs": [],
   "source": [
    "finalresults.to_csv(folder + 'results_RandomForest_NoProcessing.csv',index=False)"
   ]
  },
  {
   "cell_type": "code",
   "execution_count": null,
   "metadata": {},
   "outputs": [],
   "source": [
    "%%script false --no-raise-error\n",
    "from pycaret.regression import *\n",
    "exp_reg101 = setup(data = sales_train_t, target = 'item_cnt_day', session_id=1)"
   ]
  }
 ],
 "metadata": {
  "kernelspec": {
   "display_name": "Python 3",
   "language": "python",
   "name": "python3"
  },
  "language_info": {
   "codemirror_mode": {
    "name": "ipython",
    "version": 3
   },
   "file_extension": ".py",
   "mimetype": "text/x-python",
   "name": "python",
   "nbconvert_exporter": "python",
   "pygments_lexer": "ipython3",
   "version": "3.7.7"
  }
 },
 "nbformat": 4,
 "nbformat_minor": 4
}
