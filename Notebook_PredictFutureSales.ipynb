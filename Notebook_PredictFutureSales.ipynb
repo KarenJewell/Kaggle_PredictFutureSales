{
 "cells": [
  {
   "cell_type": "markdown",
   "metadata": {},
   "source": [
    "# Set environment and load data"
   ]
  },
  {
   "cell_type": "code",
   "execution_count": 1,
   "metadata": {},
   "outputs": [
    {
     "name": "stderr",
     "output_type": "stream",
     "text": [
      "/opt/anaconda3/lib/python3.7/site-packages/sklearn/utils/deprecation.py:143: FutureWarning: The sklearn.utils.testing module is  deprecated in version 0.22 and will be removed in version 0.24. The corresponding classes / functions should instead be imported from sklearn.utils. Anything that cannot be imported from sklearn.utils is now part of the private API.\n",
      "  warnings.warn(message, FutureWarning)\n"
     ]
    }
   ],
   "source": [
    "import os\n",
    "import pprint\n",
    "import pandas as pd\n",
    "import numpy as np\n",
    "import matplotlib.pyplot as plt\n",
    "import seaborn as sns\n",
    "import sklearn\n",
    "from sklearn.model_selection import train_test_split\n",
    "from sklearn import metrics\n",
    "from sklearn.metrics import mean_squared_error\n",
    "from sklearn.utils.testing import all_estimators\n",
    "from sklearn import base\n",
    "\n",
    "### Allow multi-line results\n",
    "from IPython.core.interactiveshell import InteractiveShell\n",
    "InteractiveShell.ast_node_interactivity = \"all\"\n",
    "\n",
    "### See all dataframe output\n",
    "pd.set_option('display.max_rows', 500)\n",
    "pd.set_option('display.max_columns', 500)"
   ]
  },
  {
   "cell_type": "code",
   "execution_count": 2,
   "metadata": {},
   "outputs": [
    {
     "name": "stdout",
     "output_type": "stream",
     "text": [
      "sales_train.csv\n",
      "shops.csv\n",
      "test.csv\n",
      "item_categories.csv\n",
      "items.csv\n",
      "sample_submission.csv\n"
     ]
    }
   ],
   "source": [
    "# Dynamically load data from filenames\n",
    "folder = \"/Users/Karen/OneDrive/GitHub/Kaggle_PredictFutureSales/\"\n",
    "datafolder = \"competitive-data-science-predict-future-sales/\"\n",
    "for dirname, _, filenames in os.walk(folder + datafolder):\n",
    "    for filename in filenames:\n",
    "        #file = os.path.join(dirname, filename)\n",
    "        globals()[filename.split('.')[0]] = pd.read_csv(folder + datafolder + filename)\n",
    "        print(filename)\n",
    "        "
   ]
  },
  {
   "cell_type": "markdown",
   "metadata": {},
   "source": [
    "# Inspect loaded data"
   ]
  },
  {
   "cell_type": "code",
   "execution_count": 3,
   "metadata": {},
   "outputs": [
    {
     "name": "stdout",
     "output_type": "stream",
     "text": [
      "         date  date_block_num  shop_id  item_id  item_price  item_cnt_day\n",
      "0  02.01.2013               0       59    22154      999.00           1.0\n",
      "1  03.01.2013               0       25     2552      899.00           1.0\n",
      "2  05.01.2013               0       25     2552      899.00          -1.0\n",
      "3  06.01.2013               0       25     2554     1709.05           1.0\n",
      "4  15.01.2013               0       25     2555     1099.00           1.0\n"
     ]
    },
    {
     "data": {
      "text/plain": [
       "2935849"
      ]
     },
     "execution_count": 3,
     "metadata": {},
     "output_type": "execute_result"
    }
   ],
   "source": [
    "print(sales_train.head(5))\n",
    "len(sales_train)"
   ]
  },
  {
   "cell_type": "code",
   "execution_count": 4,
   "metadata": {},
   "outputs": [
    {
     "name": "stdout",
     "output_type": "stream",
     "text": [
      "   ID  shop_id  item_id\n",
      "0   0        5     5037\n",
      "1   1        5     5320\n",
      "2   2        5     5233\n",
      "3   3        5     5232\n",
      "4   4        5     5268\n"
     ]
    }
   ],
   "source": [
    "print(test.head(5))"
   ]
  },
  {
   "cell_type": "code",
   "execution_count": 5,
   "metadata": {},
   "outputs": [
    {
     "name": "stdout",
     "output_type": "stream",
     "text": [
      "                        shop_name  shop_id\n",
      "0   !Якутск Орджоникидзе, 56 фран        0\n",
      "1   !Якутск ТЦ \"Центральный\" фран        1\n",
      "2                Адыгея ТЦ \"Мега\"        2\n",
      "3  Балашиха ТРК \"Октябрь-Киномир\"        3\n",
      "4        Волжский ТЦ \"Волга Молл\"        4\n"
     ]
    }
   ],
   "source": [
    "print(shops.head(5))"
   ]
  },
  {
   "cell_type": "code",
   "execution_count": 6,
   "metadata": {},
   "outputs": [
    {
     "name": "stdout",
     "output_type": "stream",
     "text": [
      "                                           item_name  item_id  \\\n",
      "0          ! ВО ВЛАСТИ НАВАЖДЕНИЯ (ПЛАСТ.)         D        0   \n",
      "1  !ABBYY FineReader 12 Professional Edition Full...        1   \n",
      "2      ***В ЛУЧАХ СЛАВЫ   (UNV)                    D        2   \n",
      "3    ***ГОЛУБАЯ ВОЛНА  (Univ)                      D        3   \n",
      "4        ***КОРОБКА (СТЕКЛО)                       D        4   \n",
      "\n",
      "   item_category_id  \n",
      "0                40  \n",
      "1                76  \n",
      "2                40  \n",
      "3                40  \n",
      "4                40  \n"
     ]
    }
   ],
   "source": [
    "print(items.head(5))"
   ]
  },
  {
   "cell_type": "code",
   "execution_count": 7,
   "metadata": {},
   "outputs": [
    {
     "name": "stdout",
     "output_type": "stream",
     "text": [
      "        item_category_name  item_category_id\n",
      "0  PC - Гарнитуры/Наушники                 0\n",
      "1         Аксессуары - PS2                 1\n",
      "2         Аксессуары - PS3                 2\n",
      "3         Аксессуары - PS4                 3\n",
      "4         Аксессуары - PSP                 4\n"
     ]
    }
   ],
   "source": [
    "print(item_categories.head(5))"
   ]
  },
  {
   "cell_type": "code",
   "execution_count": 8,
   "metadata": {},
   "outputs": [
    {
     "data": {
      "text/plain": [
       "str"
      ]
     },
     "execution_count": 8,
     "metadata": {},
     "output_type": "execute_result"
    },
    {
     "name": "stdout",
     "output_type": "stream",
     "text": [
      "1034\n",
      "{'02.2013', '11.2014', '06.2015', '10.2015', '01.2013', '09.2015', '06.2014', '01.2014', '08.2013', '07.2014', '04.2015', '03.2015', '12.2013', '05.2015', '07.2015', '02.2015', '10.2013', '11.2013', '08.2015', '06.2013', '07.2013', '04.2014', '03.2013', '02.2014', '08.2014', '05.2013', '03.2014', '01.2015', '05.2014', '12.2014', '09.2014', '09.2013', '04.2013', '10.2014'}\n"
     ]
    }
   ],
   "source": [
    "type(sales_train['date'][0])\n",
    "### the date column contains value as str format, we assume formatting is consistent dd.mm.yyyy\n",
    "print(len(set(sales_train['date'])))\n",
    "# print(set(sales_train['date']))\n",
    "### 1034 unique dates\n",
    "\n",
    "### extract the month + year\n",
    "sales_train['month'] = sales_train.apply(lambda x: x['date'].split('.',1)[1],axis=1)\n",
    "print(set(sales_train['month']))\n"
   ]
  },
  {
   "cell_type": "code",
   "execution_count": 9,
   "metadata": {},
   "outputs": [
    {
     "data": {
      "text/html": [
       "<div>\n",
       "<style scoped>\n",
       "    .dataframe tbody tr th:only-of-type {\n",
       "        vertical-align: middle;\n",
       "    }\n",
       "\n",
       "    .dataframe tbody tr th {\n",
       "        vertical-align: top;\n",
       "    }\n",
       "\n",
       "    .dataframe thead th {\n",
       "        text-align: right;\n",
       "    }\n",
       "</style>\n",
       "<table border=\"1\" class=\"dataframe\">\n",
       "  <thead>\n",
       "    <tr style=\"text-align: right;\">\n",
       "      <th></th>\n",
       "      <th>shop_id</th>\n",
       "      <th>item_id</th>\n",
       "      <th>item_cnt_month</th>\n",
       "    </tr>\n",
       "  </thead>\n",
       "  <tbody>\n",
       "    <tr>\n",
       "      <th>0</th>\n",
       "      <td>0</td>\n",
       "      <td>30</td>\n",
       "      <td>31.0</td>\n",
       "    </tr>\n",
       "    <tr>\n",
       "      <th>1</th>\n",
       "      <td>0</td>\n",
       "      <td>31</td>\n",
       "      <td>11.0</td>\n",
       "    </tr>\n",
       "    <tr>\n",
       "      <th>2</th>\n",
       "      <td>0</td>\n",
       "      <td>32</td>\n",
       "      <td>6.0</td>\n",
       "    </tr>\n",
       "    <tr>\n",
       "      <th>3</th>\n",
       "      <td>0</td>\n",
       "      <td>32</td>\n",
       "      <td>10.0</td>\n",
       "    </tr>\n",
       "    <tr>\n",
       "      <th>4</th>\n",
       "      <td>0</td>\n",
       "      <td>33</td>\n",
       "      <td>3.0</td>\n",
       "    </tr>\n",
       "    <tr>\n",
       "      <th>...</th>\n",
       "      <td>...</td>\n",
       "      <td>...</td>\n",
       "      <td>...</td>\n",
       "    </tr>\n",
       "    <tr>\n",
       "      <th>1609119</th>\n",
       "      <td>59</td>\n",
       "      <td>22164</td>\n",
       "      <td>2.0</td>\n",
       "    </tr>\n",
       "    <tr>\n",
       "      <th>1609120</th>\n",
       "      <td>59</td>\n",
       "      <td>22164</td>\n",
       "      <td>1.0</td>\n",
       "    </tr>\n",
       "    <tr>\n",
       "      <th>1609121</th>\n",
       "      <td>59</td>\n",
       "      <td>22167</td>\n",
       "      <td>1.0</td>\n",
       "    </tr>\n",
       "    <tr>\n",
       "      <th>1609122</th>\n",
       "      <td>59</td>\n",
       "      <td>22167</td>\n",
       "      <td>1.0</td>\n",
       "    </tr>\n",
       "    <tr>\n",
       "      <th>1609123</th>\n",
       "      <td>59</td>\n",
       "      <td>22167</td>\n",
       "      <td>2.0</td>\n",
       "    </tr>\n",
       "  </tbody>\n",
       "</table>\n",
       "<p>1609124 rows × 3 columns</p>\n",
       "</div>"
      ],
      "text/plain": [
       "         shop_id  item_id  item_cnt_month\n",
       "0              0       30            31.0\n",
       "1              0       31            11.0\n",
       "2              0       32             6.0\n",
       "3              0       32            10.0\n",
       "4              0       33             3.0\n",
       "...          ...      ...             ...\n",
       "1609119       59    22164             2.0\n",
       "1609120       59    22164             1.0\n",
       "1609121       59    22167             1.0\n",
       "1609122       59    22167             1.0\n",
       "1609123       59    22167             2.0\n",
       "\n",
       "[1609124 rows x 3 columns]"
      ]
     },
     "execution_count": 9,
     "metadata": {},
     "output_type": "execute_result"
    }
   ],
   "source": [
    "### Calculate monthly items sold and prepare for training\n",
    "### however doesn't account for trends over time.\n",
    "sales_train_t = sales_train\\\n",
    "                .groupby(['shop_id','item_id','month'])\\\n",
    "                ['item_cnt_day'].sum()\\\n",
    "                .reset_index()\\\n",
    "                .drop(columns={'month'})\\\n",
    "                .rename(columns={'item_cnt_day':'item_cnt_month'})\n",
    "sales_train_t"
   ]
  },
  {
   "cell_type": "code",
   "execution_count": 10,
   "metadata": {},
   "outputs": [
    {
     "data": {
      "text/plain": [
       "10"
      ]
     },
     "execution_count": 10,
     "metadata": {},
     "output_type": "execute_result"
    },
    {
     "name": "stdout",
     "output_type": "stream",
     "text": [
      "{'ARDRegression': ARDRegression(),\n",
      " 'BaggingRegressor': BaggingRegressor(),\n",
      " 'DecisionTreeRegressor': DecisionTreeRegressor(),\n",
      " 'ExtraTreesRegressor': ExtraTreesRegressor(),\n",
      " 'GradientBoostingRegressor': GradientBoostingRegressor(),\n",
      " 'KNeighborsRegressor': KNeighborsRegressor(),\n",
      " 'LassoLars': LassoLars(),\n",
      " 'LinearRegression': LinearRegression(),\n",
      " 'PoissonRegressor': PoissonRegressor(),\n",
      " 'RandomForestRegressor': RandomForestRegressor()}\n"
     ]
    }
   ],
   "source": [
    "### Pick regressor models\n",
    "estimators = all_estimators()\n",
    "dict_classifiers = {}\n",
    "\n",
    "shortlist = ['ARDRegression','BaggingRegressor','DecisionTreeRegressor','ExtraTreesRegressor', \\\n",
    "             'GradientBoostingRegressor','KNeighborsRegressor','LassoLars','LinearRegression', \\\n",
    "             'Linear SVR', 'PoissonRegressor','RandomForestRegressor']\n",
    "\n",
    "for name, class_ in estimators:\n",
    "    ### use one: ClassifierMixin, ClusterMixin, RegressorMixin, TransformerMixin\n",
    "    if issubclass(class_, base.RegressorMixin):\n",
    "        if name in shortlist:\n",
    "            ### excluding any models which require additional parameters\n",
    "            try:\n",
    "                dict_classifiers[name] = class_()\n",
    "            except:\n",
    "                pass\n",
    "        \n",
    "len(dict_classifiers.items())\n",
    "pprint.pprint(dict_classifiers)"
   ]
  },
  {
   "cell_type": "code",
   "execution_count": 11,
   "metadata": {},
   "outputs": [],
   "source": [
    "### Split train-test data\n",
    "x = sales_train_t.copy().drop(columns={'item_cnt_month'})\n",
    "y = sales_train_t['item_cnt_month']\n",
    "x_train, x_test, y_train, y_test = train_test_split(x, y, test_size=0.33, random_state=42)\n",
    "xy_train = list(zip(x_train, y_train))\n",
    "xy_test = list(zip(x_test, y_test))"
   ]
  },
  {
   "cell_type": "code",
   "execution_count": 12,
   "metadata": {},
   "outputs": [
    {
     "data": {
      "text/plain": [
       "ARDRegression()"
      ]
     },
     "execution_count": 12,
     "metadata": {},
     "output_type": "execute_result"
    },
    {
     "name": "stdout",
     "output_type": "stream",
     "text": [
      "ARDRegression mse:  75.01691990204851\n"
     ]
    },
    {
     "data": {
      "text/plain": [
       "BaggingRegressor()"
      ]
     },
     "execution_count": 12,
     "metadata": {},
     "output_type": "execute_result"
    },
    {
     "name": "stdout",
     "output_type": "stream",
     "text": [
      "BaggingRegressor mse:  47.447829125707756\n"
     ]
    },
    {
     "data": {
      "text/plain": [
       "DecisionTreeRegressor()"
      ]
     },
     "execution_count": 12,
     "metadata": {},
     "output_type": "execute_result"
    },
    {
     "name": "stdout",
     "output_type": "stream",
     "text": [
      "DecisionTreeRegressor mse:  48.9503345654851\n"
     ]
    },
    {
     "data": {
      "text/plain": [
       "ExtraTreesRegressor()"
      ]
     },
     "execution_count": 12,
     "metadata": {},
     "output_type": "execute_result"
    },
    {
     "name": "stdout",
     "output_type": "stream",
     "text": [
      "ExtraTreesRegressor mse:  49.06782476713751\n"
     ]
    },
    {
     "data": {
      "text/plain": [
       "GradientBoostingRegressor()"
      ]
     },
     "execution_count": 12,
     "metadata": {},
     "output_type": "execute_result"
    },
    {
     "name": "stdout",
     "output_type": "stream",
     "text": [
      "GradientBoostingRegressor mse:  57.18867748194295\n"
     ]
    },
    {
     "data": {
      "text/plain": [
       "KNeighborsRegressor()"
      ]
     },
     "execution_count": 12,
     "metadata": {},
     "output_type": "execute_result"
    },
    {
     "name": "stdout",
     "output_type": "stream",
     "text": [
      "KNeighborsRegressor mse:  50.74736771931279\n"
     ]
    },
    {
     "data": {
      "text/plain": [
       "LassoLars()"
      ]
     },
     "execution_count": 12,
     "metadata": {},
     "output_type": "execute_result"
    },
    {
     "name": "stdout",
     "output_type": "stream",
     "text": [
      "LassoLars mse:  75.01691990204851\n"
     ]
    },
    {
     "data": {
      "text/plain": [
       "LinearRegression()"
      ]
     },
     "execution_count": 12,
     "metadata": {},
     "output_type": "execute_result"
    },
    {
     "name": "stdout",
     "output_type": "stream",
     "text": [
      "LinearRegression mse:  75.00731294913798\n"
     ]
    },
    {
     "data": {
      "text/plain": [
       "RandomForestRegressor()"
      ]
     },
     "execution_count": 12,
     "metadata": {},
     "output_type": "execute_result"
    },
    {
     "name": "stdout",
     "output_type": "stream",
     "text": [
      "RandomForestRegressor mse:  47.48655369834793\n"
     ]
    }
   ],
   "source": [
    "### Cycle train through all models\n",
    "results = ([['base',0]])\n",
    "\n",
    "for model, model_inst in dict_classifiers.items():\n",
    "    try: \n",
    "        model_inst.fit(x_train, y_train)\n",
    "        pred = np.array(model_inst.predict(x_test))\n",
    "        score = metrics.mean_squared_error(y_test, pred)\n",
    "        print(model, \"mse: \",score)\n",
    "        results.append([model,score])\n",
    "    except:\n",
    "        pass"
   ]
  },
  {
   "cell_type": "code",
   "execution_count": 13,
   "metadata": {},
   "outputs": [
    {
     "name": "stdout",
     "output_type": "stream",
     "text": [
      "                       model      score\n",
      "0                       base   0.000000\n",
      "2           BaggingRegressor  47.447829\n",
      "9      RandomForestRegressor  47.486554\n",
      "3      DecisionTreeRegressor  48.950335\n",
      "4        ExtraTreesRegressor  49.067825\n",
      "6        KNeighborsRegressor  50.747368\n",
      "5  GradientBoostingRegressor  57.188677\n",
      "8           LinearRegression  75.007313\n",
      "1              ARDRegression  75.016920\n",
      "7                  LassoLars  75.016920\n"
     ]
    }
   ],
   "source": [
    "### Results of all trained models\n",
    "### For MSE: a lower MSE is desired\n",
    "print(pd.DataFrame(results, columns={'model','score'}).sort_values(by='score', ascending=True))"
   ]
  },
  {
   "cell_type": "code",
   "execution_count": 20,
   "metadata": {},
   "outputs": [
    {
     "name": "stdout",
     "output_type": "stream",
     "text": [
      "<class 'sklearn.ensemble._bagging.BaggingRegressor'>\n"
     ]
    }
   ],
   "source": [
    "for name, class_ in estimators:\n",
    "    if name == 'BaggingRegressor':\n",
    "        print(class_)"
   ]
  },
  {
   "cell_type": "code",
   "execution_count": 14,
   "metadata": {},
   "outputs": [
    {
     "data": {
      "text/plain": [
       "RandomForestRegressor()"
      ]
     },
     "execution_count": 14,
     "metadata": {},
     "output_type": "execute_result"
    },
    {
     "name": "stdout",
     "output_type": "stream",
     "text": [
      "        item_cnt_month      ID\n",
      "0             1.408175       0\n",
      "1             5.574324       1\n",
      "2             2.019944       2\n",
      "3             1.070000       3\n",
      "4             1.344629       4\n",
      "...                ...     ...\n",
      "214195        1.839055  214195\n",
      "214196        1.242448  214196\n",
      "214197        1.159384  214197\n",
      "214198        1.000000  214198\n",
      "214199        1.655944  214199\n",
      "\n",
      "[214200 rows x 2 columns]\n"
     ]
    }
   ],
   "source": [
    "### Prepare test set + final model\n",
    "test_t = test.drop(columns={\"ID\"})\n",
    "\n",
    "final_clf = sklearn.ensemble._forest.RandomForestRegressor()\n",
    "final_clf.fit(x, y)\n",
    "pred = np.array(final_clf.predict(test_t))\n",
    "finalresults = pd.DataFrame()\n",
    "finalresults['item_cnt_month'] = list(pred)\n",
    "finalresults = finalresults.join(test[['ID']])\n",
    "print(finalresults)"
   ]
  },
  {
   "cell_type": "code",
   "execution_count": 15,
   "metadata": {},
   "outputs": [],
   "source": [
    "### Export predictions to .csv\n",
    "finalresults.to_csv(folder + 'results_RandomForest_NoProcessing.csv',index=False)"
   ]
  },
  {
   "cell_type": "code",
   "execution_count": 16,
   "metadata": {},
   "outputs": [],
   "source": [
    "%%script false --no-raise-error\n",
    "from pycaret.regression import *\n",
    "exp_reg101 = setup(data = sales_train_t, target = 'item_cnt_day', session_id=1)"
   ]
  }
 ],
 "metadata": {
  "kernelspec": {
   "display_name": "Python 3",
   "language": "python",
   "name": "python3"
  },
  "language_info": {
   "codemirror_mode": {
    "name": "ipython",
    "version": 3
   },
   "file_extension": ".py",
   "mimetype": "text/x-python",
   "name": "python",
   "nbconvert_exporter": "python",
   "pygments_lexer": "ipython3",
   "version": "3.7.7"
  }
 },
 "nbformat": 4,
 "nbformat_minor": 4
}
